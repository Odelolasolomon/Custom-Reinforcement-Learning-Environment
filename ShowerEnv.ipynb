{
 "cells": [
  {
   "cell_type": "markdown",
   "id": "61ad854c",
   "metadata": {},
   "source": [
    "### Tasks 6, 7, 8 and 9: Develop the ShowerEnv Class"
   ]
  },
  {
   "cell_type": "code",
   "execution_count": 1,
   "id": "ba6e1573",
   "metadata": {},
   "outputs": [],
   "source": [
    "import gym\n",
    "import numpy as np\n",
    "import matplotlib.pyplot as plt\n"
   ]
  },
  {
   "cell_type": "code",
   "execution_count": 3,
   "id": "12ed5f4f",
   "metadata": {},
   "outputs": [],
   "source": [
    "class ShowerEnv(gym.Env):\n",
    "    def __init__(self, Thot, Tcold, max_angle_change, Tdesired):\n",
    "        self.Thot = Thot\n",
    "        self.Tcold = Tcold\n",
    "        self.max_angle_change = max_angle_change\n",
    "        self.Tdesired = Tdesired        \n",
    "        self.cold_flow_rate = 50\n",
    "\n",
    "    def reset(self):       \n",
    "        self.angle_hot = 20          \n",
    "        self.state = (self.angle_hot *self.Thot + self.cold_flow_rate * self.Tcold) \\\n",
    "                    / (self.angle_hot + self.cold_flow_rate)\n",
    "\n",
    "        return np.array([self.state])\n",
    "\n",
    "    def step(self, action):\n",
    "        angle_change =  (action-10)*10        \n",
    "        self.angle_hot = np.clip(self.angle_hot + angle_change, 0, 100)\n",
    "        flow_hot = self.angle_hot          \n",
    "        self.state = (flow_hot * self.Thot + self.cold_flow_rate * self.Tcold) / (\n",
    "        flow_hot + self.cold_flow_rate)\n",
    "        \n",
    "        error = 3               \n",
    "        if abs(self.state - self.Tdesired) <= error:\n",
    "            reward = 10\n",
    "        elif abs(self.state - self.Tdesired) <= error*2:\n",
    "            reward = -1\n",
    "        elif abs(self.state - self.Tdesired) <= error*3:\n",
    "            reward = -5\n",
    "        else:\n",
    "            reward = -10\n",
    "            \n",
    "        if abs(self.state - self.Tdesired) <=  1.5*error:\n",
    "            done = True\n",
    "        else:\n",
    "            done = False\n",
    "        return np.array([self.state]), reward, done"
   ]
  },
  {
   "cell_type": "markdown",
   "id": "647df2a2",
   "metadata": {},
   "source": [
    "### Task 10: Train the Agent"
   ]
  },
  {
   "cell_type": "code",
   "execution_count": 4,
   "id": "823fe147",
   "metadata": {},
   "outputs": [],
   "source": [
    "   from usercode.Agent2 import Agent2\n",
    "if __name__ == '__main__':\n",
    "    env = ShowerEnv(Thot=100, Tcold=5,\n",
    "                        Tdesired=35, max_angle_change = 10)\n",
    "    agent = Agent2(gamma=0.99,lr = 0.1, n_actions =21,\n",
    "            eps_dec=0.9, eps_end= 0.01, eps_start=1.0)\n",
    "    scores = []\n",
    "    n_eps = 1000\n",
    "    steps = 0       \n",
    "    \n",
    "    for i in range(n_eps):\n",
    "        done = False\n",
    "        state = env.reset()\n",
    "        score = 0\n",
    "        \n",
    "        while not done:\n",
    "            action = agent.choose_actions(state)\n",
    "            state_, reward, done = env.step(action)\n",
    "            agent.learn(state, action, reward, state_)\n",
    "            score += reward\n",
    "            state = state_\n",
    "            steps += 1        \n",
    "        \n",
    "        scores.append(score) "
   ]
  },
  {
   "cell_type": "code",
   "execution_count": 5,
   "id": "0b11e1f7",
   "metadata": {},
   "outputs": [
    {
     "data": {
      "text/plain": [
       "Text(0, 0.5, 'reward')"
      ]
     },
     "execution_count": 5,
     "metadata": {},
     "output_type": "execute_result"
    },
    {
     "data": {
      "image/png": "[encoded data removed]",
      "text/plain": [
       "<Figure size 640x480 with 1 Axes>"
      ]
     },
     "metadata": {},
     "output_type": "display_data"
    }
   ],
   "source": [
    "plt.plot(scores)     \n",
    "plt.xlabel('iterations')\n",
    "plt.ylabel('reward')"
   ]
  },
  {
   "cell_type": "code",
   "execution_count": null,
   "id": "8d815af4",
   "metadata": {},
   "outputs": [],
   "source": []
  }
 ],
 "metadata": {
  "kernelspec": {
   "display_name": "Python 3",
   "language": "python",
   "name": "python3"
  },
  "language_info": {
   "codemirror_mode": {
    "name": "ipython",
    "version": 3
   },
   "file_extension": ".py",
   "mimetype": "text/x-python",
   "name": "python",
   "nbconvert_exporter": "python",
   "pygments_lexer": "ipython3",
   "version": "3.8.10"
  },
  "vscode": {
   "interpreter": {
    "hash": "916dbcbb3f70747c44a77c7bcd40155683ae19c65e1c03b4aa3499c5328201f1"
   }
  }
 },
 "nbformat": 4,
 "nbformat_minor": 5
}
