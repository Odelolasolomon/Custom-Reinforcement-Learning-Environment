{
 "cells": [
  {
   "cell_type": "markdown",
   "metadata": {},
   "source": [
    "### Task 1,2,3 and 4: Develop the GridEnv Class"
   ]
  },
  {
   "cell_type": "code",
   "execution_count": 1,
   "metadata": {},
   "outputs": [],
   "source": [
    "import gym\n",
    "import numpy as np\n",
    "import matplotlib.pyplot as plt"
   ]
  },
  {
   "cell_type": "code",
   "execution_count": 3,
   "metadata": {},
   "outputs": [],
   "source": [
    "class GridEnv(gym.Env):     \n",
    "    def __init__(self, square_grid_size):       \n",
    "        self.size = square_grid_size    \n",
    "\n",
    "    def reset(self):     \n",
    "        self.state = (0, 0)  #row, column\n",
    "        self.total_reward = 0     \n",
    "\n",
    "    def step(self, action):        \n",
    "        if action == 0 and self.state[0] > 0:\n",
    "            self.state = (self.state[0] - 1, self.state[1])\n",
    "        elif action == 1 and self.state[0] < self.size-1:\n",
    "            self.state = (self.state[0] + 1, self.state[1])\n",
    "        elif action == 2 and self.state[1] > 0:\n",
    "            self.state = (self.state[0], self.state[1] - 1)\n",
    "        elif action == 3 and self.state[1] < self.size-1:\n",
    "            self.state = (self.state[0], self.state[1] + 1)\n",
    "    \n",
    "\n",
    "        if self.state == (self.size-1, self.size-1):\n",
    "            reward = 50\n",
    "        elif self.state == (self.size-1,0):\n",
    "            reward = -50\n",
    "        else:\n",
    "            reward = -1\n",
    "\n",
    "        done = self.state == (self.size-1, self.size-1) or self.state == (self.size-1, 0)\n",
    "\n",
    "        return self.state, reward, done"
   ]
  },
  {
   "cell_type": "markdown",
   "metadata": {},
   "source": [
    "### Task 5: Train the Agent"
   ]
  },
  {
   "cell_type": "code",
   "execution_count": 6,
   "metadata": {},
   "outputs": [],
   "source": []
  },
  {
   "cell_type": "code",
   "execution_count": null,
   "metadata": {},
   "outputs": [],
   "source": []
  }
 ],
 "metadata": {
  "kernelspec": {
   "display_name": "Python 3",
   "language": "python",
   "name": "python3"
  },
  "language_info": {
   "codemirror_mode": {
    "name": "ipython",
    "version": 3
   },
   "file_extension": ".py",
   "mimetype": "text/x-python",
   "name": "python",
   "nbconvert_exporter": "python",
   "pygments_lexer": "ipython3",
   "version": "3.8.10"
  },
  "orig_nbformat": 4,
  "vscode": {
   "interpreter": {
    "hash": "916dbcbb3f70747c44a77c7bcd40155683ae19c65e1c03b4aa3499c5328201f1"
   }
  }
 },
 "nbformat": 4,
 "nbformat_minor": 2
}
